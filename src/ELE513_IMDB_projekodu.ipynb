{
  "cells": [
    {
      "cell_type": "markdown",
      "metadata": {
        "id": "ECI0tUkLIviO"
      },
      "source": [
        "### Veri Seti Bilgisi\n",
        "\n",
        "IMDB veri seti, doğal dil işleme için yani ikili duygu sınıflandırması için 50 bin film incelemesi içerir. Veri seti, duygusal analizi gerçekleştirmek için iki sütun içerir - inceleme ve duygu.\n",
        "\n",
        "### Amaç\n",
        "IMDB yorumlarındaki olumlu ve olumsuz duyguları doğru şekilde sınıflandırmak.\n",
        "\n",
        "### Genel Bakis\n",
        "Bu not defterinde, makine öğrenimi ve derin öğrenme algoritmalarını kullanarak veri kümesinde temizlik, keşifsel veri analizi ve öngörücü modelleme gerçekleştiriyoruz. Makine öğrenimi için Lineer Regresyon, Random Forest Classifier ve Lojistik Regresyon kullanıyoruz. Maksimum doğruluk değerimiz Lojistik Regresyon için yaklaşık %89'dır.\n",
        "\n",
        "### Referanslar\n",
        "1. https://www.kaggle.com/madz2000/sentiment-analysis-cleaning-eda-bert-88-acc/output\n",
        "2. https://www.kaggle.com/aditya6040/7-models-on-imdb-dataset-best-score-88-2\n",
        "3. https://www.kaggle.com/faressayah/sentiment-model-with-tensorflow-transformers\n",
        "4. https://www.kaggle.com/sravyaysk/imdb-movie-review-classification-using-tensorflow\n",
        "5. https://www.kaggle.com/colearninglounge/nlp-data-preprocessing-and-cleaning\n",
        "6. https://huggingface.co/transformers/master/custom_datasets.html"
      ]
    },
    {
      "cell_type": "markdown",
      "metadata": {
        "id": "8NZKKOWIIviP"
      },
      "source": [
        "# **1. Kütüphanelerin İçe Aktarılması**\n"
      ]
    },
    {
      "cell_type": "code",
      "execution_count": null,
      "metadata": {
        "id": "kuqgR1xOIviP",
        "colab": {
          "base_uri": "https://localhost:8080/"
        },
        "outputId": "6200d23d-c037-47ef-c228-6e6ba2e18d26"
      },
      "outputs": [
        {
          "output_type": "stream",
          "name": "stderr",
          "text": [
            "[nltk_data] Downloading package stopwords to /root/nltk_data...\n",
            "[nltk_data]   Unzipping corpora/stopwords.zip.\n",
            "[nltk_data] Downloading package wordnet to /root/nltk_data...\n"
          ]
        },
        {
          "output_type": "execute_result",
          "data": {
            "text/plain": [
              "True"
            ]
          },
          "metadata": {},
          "execution_count": 1
        }
      ],
      "source": [
        "import os\n",
        "import numpy as np\n",
        "import pandas as pd\n",
        "import seaborn as sns\n",
        "import matplotlib.pyplot as plt\n",
        "from nltk.corpus import stopwords\n",
        "from nltk.stem import WordNetLemmatizer\n",
        "from nltk.tokenize import word_tokenize\n",
        "from wordcloud import WordCloud,STOPWORDS\n",
        "from bs4 import BeautifulSoup\n",
        "import re,string,unicodedata\n",
        "\n",
        "from sklearn.feature_extraction.text import CountVectorizer, TfidfVectorizer\n",
        "from sklearn.linear_model import LogisticRegression\n",
        "from sklearn.linear_model import LinearRegression\n",
        "from sklearn.svm import LinearSVC\n",
        "from sklearn.ensemble import GradientBoostingClassifier\n",
        "from sklearn.naive_bayes import GaussianNB, MultinomialNB\n",
        "from sklearn.model_selection import train_test_split\n",
        "from sklearn.metrics import classification_report, accuracy_score, confusion_matrix, ConfusionMatrixDisplay\n",
        "\n",
        "import transformers\n",
        "import tokenizers\n",
        "import warnings\n",
        "warnings.filterwarnings('ignore')\n",
        "import nltk\n",
        "nltk.download('stopwords')\n",
        "import nltk\n",
        "nltk.download('wordnet')"
      ]
    },
    {
      "cell_type": "markdown",
      "metadata": {
        "id": "Bla3m3JPIviP"
      },
      "source": [
        "# **2. Veri Çıkarma ve Temizleme**\n"
      ]
    },
    {
      "cell_type": "code",
      "source": [
        "if not os.path.exists(\"IMDB-Dataset.csv\"):\n",
        "    print(\"Dosya bulunamadı, indiriliyor...\")\n",
        "    !wget https://raw.githubusercontent.com/Ankit152/IMDB-sentiment-analysis/master/IMDB-Dataset.csv\n",
        "else:\n",
        "    print(\"Dosya zaten mevcut, yeniden indirilmedi.\")"
      ],
      "metadata": {
        "colab": {
          "base_uri": "https://localhost:8080/"
        },
        "id": "HQGNQS67MW1J",
        "outputId": "92427433-6d3e-41d4-f461-499e31b68c17"
      },
      "execution_count": null,
      "outputs": [
        {
          "output_type": "stream",
          "name": "stdout",
          "text": [
            "Dosya bulunamadı, indiriliyor...\n",
            "--2024-12-04 10:03:15--  https://raw.githubusercontent.com/Ankit152/IMDB-sentiment-analysis/master/IMDB-Dataset.csv\n",
            "Resolving raw.githubusercontent.com (raw.githubusercontent.com)... 185.199.109.133, 185.199.108.133, 185.199.111.133, ...\n",
            "Connecting to raw.githubusercontent.com (raw.githubusercontent.com)|185.199.109.133|:443... connected.\n",
            "HTTP request sent, awaiting response... 200 OK\n",
            "Length: 66212309 (63M) [text/plain]\n",
            "Saving to: ‘IMDB-Dataset.csv’\n",
            "\n",
            "IMDB-Dataset.csv    100%[===================>]  63.14M   131MB/s    in 0.5s    \n",
            "\n",
            "2024-12-04 10:03:17 (131 MB/s) - ‘IMDB-Dataset.csv’ saved [66212309/66212309]\n",
            "\n"
          ]
        }
      ]
    },
    {
      "cell_type": "markdown",
      "metadata": {
        "id": "iX_2KQ06EvVW"
      },
      "source": [
        "Aşağıdaki hücre, .csv verilerini okumak ve ilk 5 girdiyi görselleştirmek içindir.\n"
      ]
    },
    {
      "cell_type": "code",
      "execution_count": null,
      "metadata": {
        "id": "fKBnfgKvIviP",
        "colab": {
          "base_uri": "https://localhost:8080/",
          "height": 206
        },
        "outputId": "b11916b0-a462-4cd1-d70d-8a6b50629b23"
      },
      "outputs": [
        {
          "output_type": "execute_result",
          "data": {
            "text/plain": [
              "                                              review sentiment\n",
              "0  One of the other reviewers has mentioned that ...  positive\n",
              "1  A wonderful little production. <br /><br />The...  positive\n",
              "2  I thought this was a wonderful way to spend ti...  positive\n",
              "3  Basically there's a family where a little boy ...  negative\n",
              "4  Petter Mattei's \"Love in the Time of Money\" is...  positive"
            ],
            "text/html": [
              "\n",
              "  <div id=\"df-56dba319-00f3-425a-9826-029a515e16e5\" class=\"colab-df-container\">\n",
              "    <div>\n",
              "<style scoped>\n",
              "    .dataframe tbody tr th:only-of-type {\n",
              "        vertical-align: middle;\n",
              "    }\n",
              "\n",
              "    .dataframe tbody tr th {\n",
              "        vertical-align: top;\n",
              "    }\n",
              "\n",
              "    .dataframe thead th {\n",
              "        text-align: right;\n",
              "    }\n",
              "</style>\n",
              "<table border=\"1\" class=\"dataframe\">\n",
              "  <thead>\n",
              "    <tr style=\"text-align: right;\">\n",
              "      <th></th>\n",
              "      <th>review</th>\n",
              "      <th>sentiment</th>\n",
              "    </tr>\n",
              "  </thead>\n",
              "  <tbody>\n",
              "    <tr>\n",
              "      <th>0</th>\n",
              "      <td>One of the other reviewers has mentioned that ...</td>\n",
              "      <td>positive</td>\n",
              "    </tr>\n",
              "    <tr>\n",
              "      <th>1</th>\n",
              "      <td>A wonderful little production. &lt;br /&gt;&lt;br /&gt;The...</td>\n",
              "      <td>positive</td>\n",
              "    </tr>\n",
              "    <tr>\n",
              "      <th>2</th>\n",
              "      <td>I thought this was a wonderful way to spend ti...</td>\n",
              "      <td>positive</td>\n",
              "    </tr>\n",
              "    <tr>\n",
              "      <th>3</th>\n",
              "      <td>Basically there's a family where a little boy ...</td>\n",
              "      <td>negative</td>\n",
              "    </tr>\n",
              "    <tr>\n",
              "      <th>4</th>\n",
              "      <td>Petter Mattei's \"Love in the Time of Money\" is...</td>\n",
              "      <td>positive</td>\n",
              "    </tr>\n",
              "  </tbody>\n",
              "</table>\n",
              "</div>\n",
              "    <div class=\"colab-df-buttons\">\n",
              "\n",
              "  <div class=\"colab-df-container\">\n",
              "    <button class=\"colab-df-convert\" onclick=\"convertToInteractive('df-56dba319-00f3-425a-9826-029a515e16e5')\"\n",
              "            title=\"Convert this dataframe to an interactive table.\"\n",
              "            style=\"display:none;\">\n",
              "\n",
              "  <svg xmlns=\"http://www.w3.org/2000/svg\" height=\"24px\" viewBox=\"0 -960 960 960\">\n",
              "    <path d=\"M120-120v-720h720v720H120Zm60-500h600v-160H180v160Zm220 220h160v-160H400v160Zm0 220h160v-160H400v160ZM180-400h160v-160H180v160Zm440 0h160v-160H620v160ZM180-180h160v-160H180v160Zm440 0h160v-160H620v160Z\"/>\n",
              "  </svg>\n",
              "    </button>\n",
              "\n",
              "  <style>\n",
              "    .colab-df-container {\n",
              "      display:flex;\n",
              "      gap: 12px;\n",
              "    }\n",
              "\n",
              "    .colab-df-convert {\n",
              "      background-color: #E8F0FE;\n",
              "      border: none;\n",
              "      border-radius: 50%;\n",
              "      cursor: pointer;\n",
              "      display: none;\n",
              "      fill: #1967D2;\n",
              "      height: 32px;\n",
              "      padding: 0 0 0 0;\n",
              "      width: 32px;\n",
              "    }\n",
              "\n",
              "    .colab-df-convert:hover {\n",
              "      background-color: #E2EBFA;\n",
              "      box-shadow: 0px 1px 2px rgba(60, 64, 67, 0.3), 0px 1px 3px 1px rgba(60, 64, 67, 0.15);\n",
              "      fill: #174EA6;\n",
              "    }\n",
              "\n",
              "    .colab-df-buttons div {\n",
              "      margin-bottom: 4px;\n",
              "    }\n",
              "\n",
              "    [theme=dark] .colab-df-convert {\n",
              "      background-color: #3B4455;\n",
              "      fill: #D2E3FC;\n",
              "    }\n",
              "\n",
              "    [theme=dark] .colab-df-convert:hover {\n",
              "      background-color: #434B5C;\n",
              "      box-shadow: 0px 1px 3px 1px rgba(0, 0, 0, 0.15);\n",
              "      filter: drop-shadow(0px 1px 2px rgba(0, 0, 0, 0.3));\n",
              "      fill: #FFFFFF;\n",
              "    }\n",
              "  </style>\n",
              "\n",
              "    <script>\n",
              "      const buttonEl =\n",
              "        document.querySelector('#df-56dba319-00f3-425a-9826-029a515e16e5 button.colab-df-convert');\n",
              "      buttonEl.style.display =\n",
              "        google.colab.kernel.accessAllowed ? 'block' : 'none';\n",
              "\n",
              "      async function convertToInteractive(key) {\n",
              "        const element = document.querySelector('#df-56dba319-00f3-425a-9826-029a515e16e5');\n",
              "        const dataTable =\n",
              "          await google.colab.kernel.invokeFunction('convertToInteractive',\n",
              "                                                    [key], {});\n",
              "        if (!dataTable) return;\n",
              "\n",
              "        const docLinkHtml = 'Like what you see? Visit the ' +\n",
              "          '<a target=\"_blank\" href=https://colab.research.google.com/notebooks/data_table.ipynb>data table notebook</a>'\n",
              "          + ' to learn more about interactive tables.';\n",
              "        element.innerHTML = '';\n",
              "        dataTable['output_type'] = 'display_data';\n",
              "        await google.colab.output.renderOutput(dataTable, element);\n",
              "        const docLink = document.createElement('div');\n",
              "        docLink.innerHTML = docLinkHtml;\n",
              "        element.appendChild(docLink);\n",
              "      }\n",
              "    </script>\n",
              "  </div>\n",
              "\n",
              "\n",
              "<div id=\"df-19dd3390-75cb-4625-9054-6bb6c521068d\">\n",
              "  <button class=\"colab-df-quickchart\" onclick=\"quickchart('df-19dd3390-75cb-4625-9054-6bb6c521068d')\"\n",
              "            title=\"Suggest charts\"\n",
              "            style=\"display:none;\">\n",
              "\n",
              "<svg xmlns=\"http://www.w3.org/2000/svg\" height=\"24px\"viewBox=\"0 0 24 24\"\n",
              "     width=\"24px\">\n",
              "    <g>\n",
              "        <path d=\"M19 3H5c-1.1 0-2 .9-2 2v14c0 1.1.9 2 2 2h14c1.1 0 2-.9 2-2V5c0-1.1-.9-2-2-2zM9 17H7v-7h2v7zm4 0h-2V7h2v10zm4 0h-2v-4h2v4z\"/>\n",
              "    </g>\n",
              "</svg>\n",
              "  </button>\n",
              "\n",
              "<style>\n",
              "  .colab-df-quickchart {\n",
              "      --bg-color: #E8F0FE;\n",
              "      --fill-color: #1967D2;\n",
              "      --hover-bg-color: #E2EBFA;\n",
              "      --hover-fill-color: #174EA6;\n",
              "      --disabled-fill-color: #AAA;\n",
              "      --disabled-bg-color: #DDD;\n",
              "  }\n",
              "\n",
              "  [theme=dark] .colab-df-quickchart {\n",
              "      --bg-color: #3B4455;\n",
              "      --fill-color: #D2E3FC;\n",
              "      --hover-bg-color: #434B5C;\n",
              "      --hover-fill-color: #FFFFFF;\n",
              "      --disabled-bg-color: #3B4455;\n",
              "      --disabled-fill-color: #666;\n",
              "  }\n",
              "\n",
              "  .colab-df-quickchart {\n",
              "    background-color: var(--bg-color);\n",
              "    border: none;\n",
              "    border-radius: 50%;\n",
              "    cursor: pointer;\n",
              "    display: none;\n",
              "    fill: var(--fill-color);\n",
              "    height: 32px;\n",
              "    padding: 0;\n",
              "    width: 32px;\n",
              "  }\n",
              "\n",
              "  .colab-df-quickchart:hover {\n",
              "    background-color: var(--hover-bg-color);\n",
              "    box-shadow: 0 1px 2px rgba(60, 64, 67, 0.3), 0 1px 3px 1px rgba(60, 64, 67, 0.15);\n",
              "    fill: var(--button-hover-fill-color);\n",
              "  }\n",
              "\n",
              "  .colab-df-quickchart-complete:disabled,\n",
              "  .colab-df-quickchart-complete:disabled:hover {\n",
              "    background-color: var(--disabled-bg-color);\n",
              "    fill: var(--disabled-fill-color);\n",
              "    box-shadow: none;\n",
              "  }\n",
              "\n",
              "  .colab-df-spinner {\n",
              "    border: 2px solid var(--fill-color);\n",
              "    border-color: transparent;\n",
              "    border-bottom-color: var(--fill-color);\n",
              "    animation:\n",
              "      spin 1s steps(1) infinite;\n",
              "  }\n",
              "\n",
              "  @keyframes spin {\n",
              "    0% {\n",
              "      border-color: transparent;\n",
              "      border-bottom-color: var(--fill-color);\n",
              "      border-left-color: var(--fill-color);\n",
              "    }\n",
              "    20% {\n",
              "      border-color: transparent;\n",
              "      border-left-color: var(--fill-color);\n",
              "      border-top-color: var(--fill-color);\n",
              "    }\n",
              "    30% {\n",
              "      border-color: transparent;\n",
              "      border-left-color: var(--fill-color);\n",
              "      border-top-color: var(--fill-color);\n",
              "      border-right-color: var(--fill-color);\n",
              "    }\n",
              "    40% {\n",
              "      border-color: transparent;\n",
              "      border-right-color: var(--fill-color);\n",
              "      border-top-color: var(--fill-color);\n",
              "    }\n",
              "    60% {\n",
              "      border-color: transparent;\n",
              "      border-right-color: var(--fill-color);\n",
              "    }\n",
              "    80% {\n",
              "      border-color: transparent;\n",
              "      border-right-color: var(--fill-color);\n",
              "      border-bottom-color: var(--fill-color);\n",
              "    }\n",
              "    90% {\n",
              "      border-color: transparent;\n",
              "      border-bottom-color: var(--fill-color);\n",
              "    }\n",
              "  }\n",
              "</style>\n",
              "\n",
              "  <script>\n",
              "    async function quickchart(key) {\n",
              "      const quickchartButtonEl =\n",
              "        document.querySelector('#' + key + ' button');\n",
              "      quickchartButtonEl.disabled = true;  // To prevent multiple clicks.\n",
              "      quickchartButtonEl.classList.add('colab-df-spinner');\n",
              "      try {\n",
              "        const charts = await google.colab.kernel.invokeFunction(\n",
              "            'suggestCharts', [key], {});\n",
              "      } catch (error) {\n",
              "        console.error('Error during call to suggestCharts:', error);\n",
              "      }\n",
              "      quickchartButtonEl.classList.remove('colab-df-spinner');\n",
              "      quickchartButtonEl.classList.add('colab-df-quickchart-complete');\n",
              "    }\n",
              "    (() => {\n",
              "      let quickchartButtonEl =\n",
              "        document.querySelector('#df-19dd3390-75cb-4625-9054-6bb6c521068d button');\n",
              "      quickchartButtonEl.style.display =\n",
              "        google.colab.kernel.accessAllowed ? 'block' : 'none';\n",
              "    })();\n",
              "  </script>\n",
              "</div>\n",
              "\n",
              "    </div>\n",
              "  </div>\n"
            ],
            "application/vnd.google.colaboratory.intrinsic+json": {
              "type": "dataframe",
              "variable_name": "data",
              "summary": "{\n  \"name\": \"data\",\n  \"rows\": 50000,\n  \"fields\": [\n    {\n      \"column\": \"review\",\n      \"properties\": {\n        \"dtype\": \"string\",\n        \"num_unique_values\": 49582,\n        \"samples\": [\n          \"\\\"Soul Plane\\\" is a horrible attempt at comedy that only should appeal people with thick skulls, bloodshot eyes and furry pawns. <br /><br />The plot is not only incoherent but also non-existent, acting is mostly sub sub-par with a gang of highly moronic and dreadful characters thrown in for bad measure, jokes are often spotted miles ahead and almost never even a bit amusing. This movie lacks any structure and is full of racial stereotypes that must have seemed old even in the fifties, the only thing it really has going for it is some pretty ladies, but really, if you want that you can rent something from the \\\"Adult\\\" section. OK?<br /><br />I can hardly see anything here to recommend since you'll probably have a lot a better and productive time chasing rats with a sledgehammer or inventing waterproof teabags or whatever.<br /><br />2/10\",\n          \"Guest from the Future tells a fascinating story of time travel, friendship, battle of good and evil -- all with a small budget, child actors, and few special effects. Something for Spielberg and Lucas to learn from. ;) A sixth-grader Kolya \\\"Nick\\\" Gerasimov finds a time machine in the basement of a decrepit building and travels 100 years into the future. He discovers a near-perfect, utopian society where robots play guitars and write poetry, everyone is kind to each other and people enjoy everything technology has to offer. Alice is the daughter of a prominent scientist who invented a device called Mielophone that allows to read minds of humans and animals. The device can be put to both good and bad use, depending on whose hands it falls into. When two evil space pirates from Saturn who want to rule the universe attempt to steal Mielophone, it falls into the hands of 20th century school boy Nick. With the pirates hot on his tracks, he travels back to his time, followed by the pirates, and Alice. Chaos, confusion and funny situations follow as the luckless pirates try to blend in with the earthlings. Alice enrolls in the same school Nick goes to and demonstrates superhuman abilities in PE class. The catch is, Alice doesn't know what Nick looks like, while the pirates do. Also, the pirates are able to change their appearance and turn literally into anyone. (Hmm, I wonder if this is where James Cameron got the idea for Terminator...) Who gets to Nick -- and Mielophone -- first? Excellent plot, non-stop adventures, and great soundtrack. I wish Hollywood made kid movies like this one...\",\n          \"\\\"National Treasure\\\" (2004) is a thoroughly misguided hodge-podge of plot entanglements that borrow from nearly every cloak and dagger government conspiracy clich\\u00e9 that has ever been written. The film stars Nicholas Cage as Benjamin Franklin Gates (how precious is that, I ask you?); a seemingly normal fellow who, for no other reason than being of a lineage of like-minded misguided fortune hunters, decides to steal a 'national treasure' that has been hidden by the United States founding fathers. After a bit of subtext and background that plays laughably (unintentionally) like Indiana Jones meets The Patriot, the film degenerates into one misguided whimsy after another \\u0096 attempting to create a 'Stanley Goodspeed' regurgitation of Nicholas Cage and launch the whole convoluted mess forward with a series of high octane, but disconnected misadventures.<br /><br />The relevancy and logic to having George Washington and his motley crew of patriots burying a king's ransom someplace on native soil, and then, going through the meticulous plan of leaving clues scattered throughout U.S. currency art work, is something that director Jon Turteltaub never quite gets around to explaining. Couldn't Washington found better usage for such wealth during the start up of the country? Hence, we are left with a mystery built on top of an enigma that is already on shaky ground by the time Ben appoints himself the new custodian of this untold wealth. Ben's intentions are noble \\u0096 if confusing. He's set on protecting the treasure. For who and when?\\u0085your guess is as good as mine.<br /><br />But there are a few problems with Ben's crusade. First up, his friend, Ian Holmes (Sean Bean) decides that he can't wait for Ben to make up his mind about stealing the Declaration of Independence from the National Archives (oh, yeah \\u0096 brilliant idea!). Presumably, the back of that famous document holds the secret answer to the ultimate fortune. So Ian tries to kill Ben. The assassination attempt is, of course, unsuccessful, if overly melodramatic. It also affords Ben the opportunity to pick up, and pick on, the very sultry curator of the archives, Abigail Chase (Diane Kruger). She thinks Ben is clearly a nut \\u0096 at least at the beginning. But true to action/romance form, Abby's resolve melts quicker than you can say, \\\"is that the Hope Diamond?\\\" The film moves into full X-File-ish mode, as the FBI, mistakenly believing that Ben is behind the theft, retaliate in various benign ways that lead to a multi-layering of action sequences reminiscent of Mission Impossible meets The Fugitive. Honestly, don't those guys ever get 'intelligence' information that is correct? In the final analysis, \\\"National Treasure\\\" isn't great film making, so much as it's a patchwork rehash of tired old bits from other movies, woven together from scraps, the likes of which would make IL' Betsy Ross blush.<br /><br />The Buena Vista DVD delivers a far more generous treatment than this film is deserving of. The anamorphic widescreen picture exhibits a very smooth and finely detailed image with very rich colors, natural flesh tones, solid blacks and clean whites. The stylized image is also free of blemishes and digital enhancements. The audio is 5.1 and delivers a nice sonic boom to your side and rear speakers with intensity and realism. Extras include a host of promotional junket material that is rather deep and over the top in its explanation of how and why this film was made. If only, as an audience, we had had more clarification as to why Ben and co. were chasing after an illusive treasure, this might have been one good flick. Extras conclude with the theatrical trailer, audio commentary and deleted scenes. Not for the faint-hearted \\u0096 just the thick-headed.\"\n        ],\n        \"semantic_type\": \"\",\n        \"description\": \"\"\n      }\n    },\n    {\n      \"column\": \"sentiment\",\n      \"properties\": {\n        \"dtype\": \"category\",\n        \"num_unique_values\": 2,\n        \"samples\": [\n          \"negative\",\n          \"positive\"\n        ],\n        \"semantic_type\": \"\",\n        \"description\": \"\"\n      }\n    }\n  ]\n}"
            }
          },
          "metadata": {},
          "execution_count": 3
        }
      ],
      "source": [
        "data=pd.read_csv('IMDB-Dataset.csv')\n",
        "data.head()"
      ]
    },
    {
      "cell_type": "markdown",
      "metadata": {
        "id": "EuJFEdMXEvVW"
      },
      "source": [
        "Aşağıdaki hücre, açıklayıcı istatistikleri göstermek için kullanılır; bu istatistikler arasında benzersiz inceleme sayısı, mod ve her bir sütunun (review ve sentiment) modunun frekansı yer alır.\n"
      ]
    },
    {
      "cell_type": "code",
      "execution_count": null,
      "metadata": {
        "id": "YEHIHmiHIviQ",
        "outputId": "fa93ea31-b704-4262-f5aa-c1d3e4a1d0ca",
        "colab": {
          "base_uri": "https://localhost:8080/",
          "height": 175
        }
      },
      "outputs": [
        {
          "output_type": "execute_result",
          "data": {
            "text/plain": [
              "                                                   review sentiment\n",
              "count                                               50000     50000\n",
              "unique                                              49582         2\n",
              "top     Loved today's show!!! It was a variety and not...  positive\n",
              "freq                                                    5     25000"
            ],
            "text/html": [
              "\n",
              "  <div id=\"df-e1ac2df1-e053-4b41-8e39-5c531148df2f\" class=\"colab-df-container\">\n",
              "    <div>\n",
              "<style scoped>\n",
              "    .dataframe tbody tr th:only-of-type {\n",
              "        vertical-align: middle;\n",
              "    }\n",
              "\n",
              "    .dataframe tbody tr th {\n",
              "        vertical-align: top;\n",
              "    }\n",
              "\n",
              "    .dataframe thead th {\n",
              "        text-align: right;\n",
              "    }\n",
              "</style>\n",
              "<table border=\"1\" class=\"dataframe\">\n",
              "  <thead>\n",
              "    <tr style=\"text-align: right;\">\n",
              "      <th></th>\n",
              "      <th>review</th>\n",
              "      <th>sentiment</th>\n",
              "    </tr>\n",
              "  </thead>\n",
              "  <tbody>\n",
              "    <tr>\n",
              "      <th>count</th>\n",
              "      <td>50000</td>\n",
              "      <td>50000</td>\n",
              "    </tr>\n",
              "    <tr>\n",
              "      <th>unique</th>\n",
              "      <td>49582</td>\n",
              "      <td>2</td>\n",
              "    </tr>\n",
              "    <tr>\n",
              "      <th>top</th>\n",
              "      <td>Loved today's show!!! It was a variety and not...</td>\n",
              "      <td>positive</td>\n",
              "    </tr>\n",
              "    <tr>\n",
              "      <th>freq</th>\n",
              "      <td>5</td>\n",
              "      <td>25000</td>\n",
              "    </tr>\n",
              "  </tbody>\n",
              "</table>\n",
              "</div>\n",
              "    <div class=\"colab-df-buttons\">\n",
              "\n",
              "  <div class=\"colab-df-container\">\n",
              "    <button class=\"colab-df-convert\" onclick=\"convertToInteractive('df-e1ac2df1-e053-4b41-8e39-5c531148df2f')\"\n",
              "            title=\"Convert this dataframe to an interactive table.\"\n",
              "            style=\"display:none;\">\n",
              "\n",
              "  <svg xmlns=\"http://www.w3.org/2000/svg\" height=\"24px\" viewBox=\"0 -960 960 960\">\n",
              "    <path d=\"M120-120v-720h720v720H120Zm60-500h600v-160H180v160Zm220 220h160v-160H400v160Zm0 220h160v-160H400v160ZM180-400h160v-160H180v160Zm440 0h160v-160H620v160ZM180-180h160v-160H180v160Zm440 0h160v-160H620v160Z\"/>\n",
              "  </svg>\n",
              "    </button>\n",
              "\n",
              "  <style>\n",
              "    .colab-df-container {\n",
              "      display:flex;\n",
              "      gap: 12px;\n",
              "    }\n",
              "\n",
              "    .colab-df-convert {\n",
              "      background-color: #E8F0FE;\n",
              "      border: none;\n",
              "      border-radius: 50%;\n",
              "      cursor: pointer;\n",
              "      display: none;\n",
              "      fill: #1967D2;\n",
              "      height: 32px;\n",
              "      padding: 0 0 0 0;\n",
              "      width: 32px;\n",
              "    }\n",
              "\n",
              "    .colab-df-convert:hover {\n",
              "      background-color: #E2EBFA;\n",
              "      box-shadow: 0px 1px 2px rgba(60, 64, 67, 0.3), 0px 1px 3px 1px rgba(60, 64, 67, 0.15);\n",
              "      fill: #174EA6;\n",
              "    }\n",
              "\n",
              "    .colab-df-buttons div {\n",
              "      margin-bottom: 4px;\n",
              "    }\n",
              "\n",
              "    [theme=dark] .colab-df-convert {\n",
              "      background-color: #3B4455;\n",
              "      fill: #D2E3FC;\n",
              "    }\n",
              "\n",
              "    [theme=dark] .colab-df-convert:hover {\n",
              "      background-color: #434B5C;\n",
              "      box-shadow: 0px 1px 3px 1px rgba(0, 0, 0, 0.15);\n",
              "      filter: drop-shadow(0px 1px 2px rgba(0, 0, 0, 0.3));\n",
              "      fill: #FFFFFF;\n",
              "    }\n",
              "  </style>\n",
              "\n",
              "    <script>\n",
              "      const buttonEl =\n",
              "        document.querySelector('#df-e1ac2df1-e053-4b41-8e39-5c531148df2f button.colab-df-convert');\n",
              "      buttonEl.style.display =\n",
              "        google.colab.kernel.accessAllowed ? 'block' : 'none';\n",
              "\n",
              "      async function convertToInteractive(key) {\n",
              "        const element = document.querySelector('#df-e1ac2df1-e053-4b41-8e39-5c531148df2f');\n",
              "        const dataTable =\n",
              "          await google.colab.kernel.invokeFunction('convertToInteractive',\n",
              "                                                    [key], {});\n",
              "        if (!dataTable) return;\n",
              "\n",
              "        const docLinkHtml = 'Like what you see? Visit the ' +\n",
              "          '<a target=\"_blank\" href=https://colab.research.google.com/notebooks/data_table.ipynb>data table notebook</a>'\n",
              "          + ' to learn more about interactive tables.';\n",
              "        element.innerHTML = '';\n",
              "        dataTable['output_type'] = 'display_data';\n",
              "        await google.colab.output.renderOutput(dataTable, element);\n",
              "        const docLink = document.createElement('div');\n",
              "        docLink.innerHTML = docLinkHtml;\n",
              "        element.appendChild(docLink);\n",
              "      }\n",
              "    </script>\n",
              "  </div>\n",
              "\n",
              "\n",
              "<div id=\"df-002e591e-df22-4d4c-9c9a-764d200a1602\">\n",
              "  <button class=\"colab-df-quickchart\" onclick=\"quickchart('df-002e591e-df22-4d4c-9c9a-764d200a1602')\"\n",
              "            title=\"Suggest charts\"\n",
              "            style=\"display:none;\">\n",
              "\n",
              "<svg xmlns=\"http://www.w3.org/2000/svg\" height=\"24px\"viewBox=\"0 0 24 24\"\n",
              "     width=\"24px\">\n",
              "    <g>\n",
              "        <path d=\"M19 3H5c-1.1 0-2 .9-2 2v14c0 1.1.9 2 2 2h14c1.1 0 2-.9 2-2V5c0-1.1-.9-2-2-2zM9 17H7v-7h2v7zm4 0h-2V7h2v10zm4 0h-2v-4h2v4z\"/>\n",
              "    </g>\n",
              "</svg>\n",
              "  </button>\n",
              "\n",
              "<style>\n",
              "  .colab-df-quickchart {\n",
              "      --bg-color: #E8F0FE;\n",
              "      --fill-color: #1967D2;\n",
              "      --hover-bg-color: #E2EBFA;\n",
              "      --hover-fill-color: #174EA6;\n",
              "      --disabled-fill-color: #AAA;\n",
              "      --disabled-bg-color: #DDD;\n",
              "  }\n",
              "\n",
              "  [theme=dark] .colab-df-quickchart {\n",
              "      --bg-color: #3B4455;\n",
              "      --fill-color: #D2E3FC;\n",
              "      --hover-bg-color: #434B5C;\n",
              "      --hover-fill-color: #FFFFFF;\n",
              "      --disabled-bg-color: #3B4455;\n",
              "      --disabled-fill-color: #666;\n",
              "  }\n",
              "\n",
              "  .colab-df-quickchart {\n",
              "    background-color: var(--bg-color);\n",
              "    border: none;\n",
              "    border-radius: 50%;\n",
              "    cursor: pointer;\n",
              "    display: none;\n",
              "    fill: var(--fill-color);\n",
              "    height: 32px;\n",
              "    padding: 0;\n",
              "    width: 32px;\n",
              "  }\n",
              "\n",
              "  .colab-df-quickchart:hover {\n",
              "    background-color: var(--hover-bg-color);\n",
              "    box-shadow: 0 1px 2px rgba(60, 64, 67, 0.3), 0 1px 3px 1px rgba(60, 64, 67, 0.15);\n",
              "    fill: var(--button-hover-fill-color);\n",
              "  }\n",
              "\n",
              "  .colab-df-quickchart-complete:disabled,\n",
              "  .colab-df-quickchart-complete:disabled:hover {\n",
              "    background-color: var(--disabled-bg-color);\n",
              "    fill: var(--disabled-fill-color);\n",
              "    box-shadow: none;\n",
              "  }\n",
              "\n",
              "  .colab-df-spinner {\n",
              "    border: 2px solid var(--fill-color);\n",
              "    border-color: transparent;\n",
              "    border-bottom-color: var(--fill-color);\n",
              "    animation:\n",
              "      spin 1s steps(1) infinite;\n",
              "  }\n",
              "\n",
              "  @keyframes spin {\n",
              "    0% {\n",
              "      border-color: transparent;\n",
              "      border-bottom-color: var(--fill-color);\n",
              "      border-left-color: var(--fill-color);\n",
              "    }\n",
              "    20% {\n",
              "      border-color: transparent;\n",
              "      border-left-color: var(--fill-color);\n",
              "      border-top-color: var(--fill-color);\n",
              "    }\n",
              "    30% {\n",
              "      border-color: transparent;\n",
              "      border-left-color: var(--fill-color);\n",
              "      border-top-color: var(--fill-color);\n",
              "      border-right-color: var(--fill-color);\n",
              "    }\n",
              "    40% {\n",
              "      border-color: transparent;\n",
              "      border-right-color: var(--fill-color);\n",
              "      border-top-color: var(--fill-color);\n",
              "    }\n",
              "    60% {\n",
              "      border-color: transparent;\n",
              "      border-right-color: var(--fill-color);\n",
              "    }\n",
              "    80% {\n",
              "      border-color: transparent;\n",
              "      border-right-color: var(--fill-color);\n",
              "      border-bottom-color: var(--fill-color);\n",
              "    }\n",
              "    90% {\n",
              "      border-color: transparent;\n",
              "      border-bottom-color: var(--fill-color);\n",
              "    }\n",
              "  }\n",
              "</style>\n",
              "\n",
              "  <script>\n",
              "    async function quickchart(key) {\n",
              "      const quickchartButtonEl =\n",
              "        document.querySelector('#' + key + ' button');\n",
              "      quickchartButtonEl.disabled = true;  // To prevent multiple clicks.\n",
              "      quickchartButtonEl.classList.add('colab-df-spinner');\n",
              "      try {\n",
              "        const charts = await google.colab.kernel.invokeFunction(\n",
              "            'suggestCharts', [key], {});\n",
              "      } catch (error) {\n",
              "        console.error('Error during call to suggestCharts:', error);\n",
              "      }\n",
              "      quickchartButtonEl.classList.remove('colab-df-spinner');\n",
              "      quickchartButtonEl.classList.add('colab-df-quickchart-complete');\n",
              "    }\n",
              "    (() => {\n",
              "      let quickchartButtonEl =\n",
              "        document.querySelector('#df-002e591e-df22-4d4c-9c9a-764d200a1602 button');\n",
              "      quickchartButtonEl.style.display =\n",
              "        google.colab.kernel.accessAllowed ? 'block' : 'none';\n",
              "    })();\n",
              "  </script>\n",
              "</div>\n",
              "\n",
              "    </div>\n",
              "  </div>\n"
            ],
            "application/vnd.google.colaboratory.intrinsic+json": {
              "type": "dataframe",
              "summary": "{\n  \"name\": \"data\",\n  \"rows\": 4,\n  \"fields\": [\n    {\n      \"column\": \"review\",\n      \"properties\": {\n        \"dtype\": \"string\",\n        \"num_unique_values\": 4,\n        \"samples\": [\n          49582,\n          \"5\",\n          \"50000\"\n        ],\n        \"semantic_type\": \"\",\n        \"description\": \"\"\n      }\n    },\n    {\n      \"column\": \"sentiment\",\n      \"properties\": {\n        \"dtype\": \"string\",\n        \"num_unique_values\": 4,\n        \"samples\": [\n          2,\n          \"25000\",\n          \"50000\"\n        ],\n        \"semantic_type\": \"\",\n        \"description\": \"\"\n      }\n    }\n  ]\n}"
            }
          },
          "metadata": {},
          "execution_count": 4
        }
      ],
      "source": [
        "data.describe() #descriptive statistics"
      ]
    },
    {
      "cell_type": "markdown",
      "metadata": {
        "id": "RyRIZzQlEvVX"
      },
      "source": [
        "Aşağıdaki hücreler, null değerleri analiz etmek için kullanılır. Görüldüğü üzere null değer sayısı 0'dır.\n"
      ]
    },
    {
      "cell_type": "code",
      "execution_count": null,
      "metadata": {
        "id": "5sl4z51BIviQ"
      },
      "outputs": [],
      "source": [
        "null_values = data.isnull().sum()"
      ]
    },
    {
      "cell_type": "code",
      "execution_count": null,
      "metadata": {
        "id": "HU82UQdnIviQ",
        "outputId": "38b81782-b9c9-4beb-fc8a-d5220af78346",
        "colab": {
          "base_uri": "https://localhost:8080/",
          "height": 36
        }
      },
      "outputs": [
        {
          "output_type": "execute_result",
          "data": {
            "text/plain": [
              "'review'"
            ],
            "application/vnd.google.colaboratory.intrinsic+json": {
              "type": "string"
            }
          },
          "metadata": {},
          "execution_count": 6
        }
      ],
      "source": [
        "null_values.index[0]"
      ]
    },
    {
      "cell_type": "code",
      "execution_count": null,
      "metadata": {
        "id": "es5GDLXGIviQ",
        "outputId": "aa4e46cb-a3f7-417a-9fbd-5d32cfc99c97",
        "colab": {
          "base_uri": "https://localhost:8080/"
        }
      },
      "outputs": [
        {
          "output_type": "stream",
          "name": "stdout",
          "text": [
            "0 için review eksik değer ve 0 için sentiment eksik değer bulunmaktadır.\n"
          ]
        }
      ],
      "source": [
        "print('{} için {} eksik değer ve {} için {} eksik değer bulunmaktadır.'.format(null_values[0], null_values.index[0], null_values[1], null_values.index[1]))\n"
      ]
    },
    {
      "cell_type": "markdown",
      "metadata": {
        "id": "_l_wIqX2EvVX"
      },
      "source": [
        "Aşağıdaki hücreler, tekrar eden incelemelerle ilgilenmek ve tekrar edenleri kaldırmak içindir.\n"
      ]
    },
    {
      "cell_type": "code",
      "execution_count": null,
      "metadata": {
        "id": "1nILbzvSIviQ",
        "outputId": "08eca35a-30e4-403f-8168-f0f7b193dba8",
        "colab": {
          "base_uri": "https://localhost:8080/"
        }
      },
      "outputs": [
        {
          "output_type": "stream",
          "name": "stdout",
          "text": [
            "Veri kümesinde 418 adet tekrar eden inceleme bulunmaktadır.\n"
          ]
        }
      ],
      "source": [
        "num_duplicates = data.duplicated().sum()\n",
        "print('Veri kümesinde {} adet tekrar eden inceleme bulunmaktadır.'.format(num_duplicates))\n"
      ]
    },
    {
      "cell_type": "code",
      "execution_count": null,
      "metadata": {
        "id": "AJy-TtA5IviQ",
        "outputId": "7ad98e0f-c121-46e7-d06d-6bdef1c1e0ff",
        "colab": {
          "base_uri": "https://localhost:8080/",
          "height": 206
        }
      },
      "outputs": [
        {
          "output_type": "execute_result",
          "data": {
            "text/plain": [
              "                                                  review sentiment\n",
              "34058  \"Go Fish\" garnered Rose Troche rightly or wron...  negative\n",
              "47467  \"Go Fish\" garnered Rose Troche rightly or wron...  negative\n",
              "29956  \"Three\" is a seriously dumb shipwreck movie. M...  negative\n",
              "31488  \"Three\" is a seriously dumb shipwreck movie. M...  negative\n",
              "47527  \"Witchery\" might just be the most incoherent a...  negative"
            ],
            "text/html": [
              "\n",
              "  <div id=\"df-796f400f-23ec-4aec-9ac9-79191f577895\" class=\"colab-df-container\">\n",
              "    <div>\n",
              "<style scoped>\n",
              "    .dataframe tbody tr th:only-of-type {\n",
              "        vertical-align: middle;\n",
              "    }\n",
              "\n",
              "    .dataframe tbody tr th {\n",
              "        vertical-align: top;\n",
              "    }\n",
              "\n",
              "    .dataframe thead th {\n",
              "        text-align: right;\n",
              "    }\n",
              "</style>\n",
              "<table border=\"1\" class=\"dataframe\">\n",
              "  <thead>\n",
              "    <tr style=\"text-align: right;\">\n",
              "      <th></th>\n",
              "      <th>review</th>\n",
              "      <th>sentiment</th>\n",
              "    </tr>\n",
              "  </thead>\n",
              "  <tbody>\n",
              "    <tr>\n",
              "      <th>34058</th>\n",
              "      <td>\"Go Fish\" garnered Rose Troche rightly or wron...</td>\n",
              "      <td>negative</td>\n",
              "    </tr>\n",
              "    <tr>\n",
              "      <th>47467</th>\n",
              "      <td>\"Go Fish\" garnered Rose Troche rightly or wron...</td>\n",
              "      <td>negative</td>\n",
              "    </tr>\n",
              "    <tr>\n",
              "      <th>29956</th>\n",
              "      <td>\"Three\" is a seriously dumb shipwreck movie. M...</td>\n",
              "      <td>negative</td>\n",
              "    </tr>\n",
              "    <tr>\n",
              "      <th>31488</th>\n",
              "      <td>\"Three\" is a seriously dumb shipwreck movie. M...</td>\n",
              "      <td>negative</td>\n",
              "    </tr>\n",
              "    <tr>\n",
              "      <th>47527</th>\n",
              "      <td>\"Witchery\" might just be the most incoherent a...</td>\n",
              "      <td>negative</td>\n",
              "    </tr>\n",
              "  </tbody>\n",
              "</table>\n",
              "</div>\n",
              "    <div class=\"colab-df-buttons\">\n",
              "\n",
              "  <div class=\"colab-df-container\">\n",
              "    <button class=\"colab-df-convert\" onclick=\"convertToInteractive('df-796f400f-23ec-4aec-9ac9-79191f577895')\"\n",
              "            title=\"Convert this dataframe to an interactive table.\"\n",
              "            style=\"display:none;\">\n",
              "\n",
              "  <svg xmlns=\"http://www.w3.org/2000/svg\" height=\"24px\" viewBox=\"0 -960 960 960\">\n",
              "    <path d=\"M120-120v-720h720v720H120Zm60-500h600v-160H180v160Zm220 220h160v-160H400v160Zm0 220h160v-160H400v160ZM180-400h160v-160H180v160Zm440 0h160v-160H620v160ZM180-180h160v-160H180v160Zm440 0h160v-160H620v160Z\"/>\n",
              "  </svg>\n",
              "    </button>\n",
              "\n",
              "  <style>\n",
              "    .colab-df-container {\n",
              "      display:flex;\n",
              "      gap: 12px;\n",
              "    }\n",
              "\n",
              "    .colab-df-convert {\n",
              "      background-color: #E8F0FE;\n",
              "      border: none;\n",
              "      border-radius: 50%;\n",
              "      cursor: pointer;\n",
              "      display: none;\n",
              "      fill: #1967D2;\n",
              "      height: 32px;\n",
              "      padding: 0 0 0 0;\n",
              "      width: 32px;\n",
              "    }\n",
              "\n",
              "    .colab-df-convert:hover {\n",
              "      background-color: #E2EBFA;\n",
              "      box-shadow: 0px 1px 2px rgba(60, 64, 67, 0.3), 0px 1px 3px 1px rgba(60, 64, 67, 0.15);\n",
              "      fill: #174EA6;\n",
              "    }\n",
              "\n",
              "    .colab-df-buttons div {\n",
              "      margin-bottom: 4px;\n",
              "    }\n",
              "\n",
              "    [theme=dark] .colab-df-convert {\n",
              "      background-color: #3B4455;\n",
              "      fill: #D2E3FC;\n",
              "    }\n",
              "\n",
              "    [theme=dark] .colab-df-convert:hover {\n",
              "      background-color: #434B5C;\n",
              "      box-shadow: 0px 1px 3px 1px rgba(0, 0, 0, 0.15);\n",
              "      filter: drop-shadow(0px 1px 2px rgba(0, 0, 0, 0.3));\n",
              "      fill: #FFFFFF;\n",
              "    }\n",
              "  </style>\n",
              "\n",
              "    <script>\n",
              "      const buttonEl =\n",
              "        document.querySelector('#df-796f400f-23ec-4aec-9ac9-79191f577895 button.colab-df-convert');\n",
              "      buttonEl.style.display =\n",
              "        google.colab.kernel.accessAllowed ? 'block' : 'none';\n",
              "\n",
              "      async function convertToInteractive(key) {\n",
              "        const element = document.querySelector('#df-796f400f-23ec-4aec-9ac9-79191f577895');\n",
              "        const dataTable =\n",
              "          await google.colab.kernel.invokeFunction('convertToInteractive',\n",
              "                                                    [key], {});\n",
              "        if (!dataTable) return;\n",
              "\n",
              "        const docLinkHtml = 'Like what you see? Visit the ' +\n",
              "          '<a target=\"_blank\" href=https://colab.research.google.com/notebooks/data_table.ipynb>data table notebook</a>'\n",
              "          + ' to learn more about interactive tables.';\n",
              "        element.innerHTML = '';\n",
              "        dataTable['output_type'] = 'display_data';\n",
              "        await google.colab.output.renderOutput(dataTable, element);\n",
              "        const docLink = document.createElement('div');\n",
              "        docLink.innerHTML = docLinkHtml;\n",
              "        element.appendChild(docLink);\n",
              "      }\n",
              "    </script>\n",
              "  </div>\n",
              "\n",
              "\n",
              "<div id=\"df-c501c056-439d-4c0b-9c69-df0fc7d12841\">\n",
              "  <button class=\"colab-df-quickchart\" onclick=\"quickchart('df-c501c056-439d-4c0b-9c69-df0fc7d12841')\"\n",
              "            title=\"Suggest charts\"\n",
              "            style=\"display:none;\">\n",
              "\n",
              "<svg xmlns=\"http://www.w3.org/2000/svg\" height=\"24px\"viewBox=\"0 0 24 24\"\n",
              "     width=\"24px\">\n",
              "    <g>\n",
              "        <path d=\"M19 3H5c-1.1 0-2 .9-2 2v14c0 1.1.9 2 2 2h14c1.1 0 2-.9 2-2V5c0-1.1-.9-2-2-2zM9 17H7v-7h2v7zm4 0h-2V7h2v10zm4 0h-2v-4h2v4z\"/>\n",
              "    </g>\n",
              "</svg>\n",
              "  </button>\n",
              "\n",
              "<style>\n",
              "  .colab-df-quickchart {\n",
              "      --bg-color: #E8F0FE;\n",
              "      --fill-color: #1967D2;\n",
              "      --hover-bg-color: #E2EBFA;\n",
              "      --hover-fill-color: #174EA6;\n",
              "      --disabled-fill-color: #AAA;\n",
              "      --disabled-bg-color: #DDD;\n",
              "  }\n",
              "\n",
              "  [theme=dark] .colab-df-quickchart {\n",
              "      --bg-color: #3B4455;\n",
              "      --fill-color: #D2E3FC;\n",
              "      --hover-bg-color: #434B5C;\n",
              "      --hover-fill-color: #FFFFFF;\n",
              "      --disabled-bg-color: #3B4455;\n",
              "      --disabled-fill-color: #666;\n",
              "  }\n",
              "\n",
              "  .colab-df-quickchart {\n",
              "    background-color: var(--bg-color);\n",
              "    border: none;\n",
              "    border-radius: 50%;\n",
              "    cursor: pointer;\n",
              "    display: none;\n",
              "    fill: var(--fill-color);\n",
              "    height: 32px;\n",
              "    padding: 0;\n",
              "    width: 32px;\n",
              "  }\n",
              "\n",
              "  .colab-df-quickchart:hover {\n",
              "    background-color: var(--hover-bg-color);\n",
              "    box-shadow: 0 1px 2px rgba(60, 64, 67, 0.3), 0 1px 3px 1px rgba(60, 64, 67, 0.15);\n",
              "    fill: var(--button-hover-fill-color);\n",
              "  }\n",
              "\n",
              "  .colab-df-quickchart-complete:disabled,\n",
              "  .colab-df-quickchart-complete:disabled:hover {\n",
              "    background-color: var(--disabled-bg-color);\n",
              "    fill: var(--disabled-fill-color);\n",
              "    box-shadow: none;\n",
              "  }\n",
              "\n",
              "  .colab-df-spinner {\n",
              "    border: 2px solid var(--fill-color);\n",
              "    border-color: transparent;\n",
              "    border-bottom-color: var(--fill-color);\n",
              "    animation:\n",
              "      spin 1s steps(1) infinite;\n",
              "  }\n",
              "\n",
              "  @keyframes spin {\n",
              "    0% {\n",
              "      border-color: transparent;\n",
              "      border-bottom-color: var(--fill-color);\n",
              "      border-left-color: var(--fill-color);\n",
              "    }\n",
              "    20% {\n",
              "      border-color: transparent;\n",
              "      border-left-color: var(--fill-color);\n",
              "      border-top-color: var(--fill-color);\n",
              "    }\n",
              "    30% {\n",
              "      border-color: transparent;\n",
              "      border-left-color: var(--fill-color);\n",
              "      border-top-color: var(--fill-color);\n",
              "      border-right-color: var(--fill-color);\n",
              "    }\n",
              "    40% {\n",
              "      border-color: transparent;\n",
              "      border-right-color: var(--fill-color);\n",
              "      border-top-color: var(--fill-color);\n",
              "    }\n",
              "    60% {\n",
              "      border-color: transparent;\n",
              "      border-right-color: var(--fill-color);\n",
              "    }\n",
              "    80% {\n",
              "      border-color: transparent;\n",
              "      border-right-color: var(--fill-color);\n",
              "      border-bottom-color: var(--fill-color);\n",
              "    }\n",
              "    90% {\n",
              "      border-color: transparent;\n",
              "      border-bottom-color: var(--fill-color);\n",
              "    }\n",
              "  }\n",
              "</style>\n",
              "\n",
              "  <script>\n",
              "    async function quickchart(key) {\n",
              "      const quickchartButtonEl =\n",
              "        document.querySelector('#' + key + ' button');\n",
              "      quickchartButtonEl.disabled = true;  // To prevent multiple clicks.\n",
              "      quickchartButtonEl.classList.add('colab-df-spinner');\n",
              "      try {\n",
              "        const charts = await google.colab.kernel.invokeFunction(\n",
              "            'suggestCharts', [key], {});\n",
              "      } catch (error) {\n",
              "        console.error('Error during call to suggestCharts:', error);\n",
              "      }\n",
              "      quickchartButtonEl.classList.remove('colab-df-spinner');\n",
              "      quickchartButtonEl.classList.add('colab-df-quickchart-complete');\n",
              "    }\n",
              "    (() => {\n",
              "      let quickchartButtonEl =\n",
              "        document.querySelector('#df-c501c056-439d-4c0b-9c69-df0fc7d12841 button');\n",
              "      quickchartButtonEl.style.display =\n",
              "        google.colab.kernel.accessAllowed ? 'block' : 'none';\n",
              "    })();\n",
              "  </script>\n",
              "</div>\n",
              "\n",
              "    </div>\n",
              "  </div>\n"
            ],
            "application/vnd.google.colaboratory.intrinsic+json": {
              "type": "dataframe",
              "variable_name": "duplicated_review",
              "summary": "{\n  \"name\": \"duplicated_review\",\n  \"rows\": 824,\n  \"fields\": [\n    {\n      \"column\": \"review\",\n      \"properties\": {\n        \"dtype\": \"category\",\n        \"num_unique_values\": 406,\n        \"samples\": [\n          \"Dr. Seuss would sure be mad right now if he was alive. Cat in the Hat proves to show how movie productions can take a classic story and turn it into a mindless pile of goop. We have Mike Myers as the infamous Cat in the Hat, big mistake! Myers proves he can't act in this film. He acts like a prissy show girl with a thousand tricks up his sleeve. The kids in this movie are all right, somewhere in between the lines of dull and annoying. The story is just like the original with a couple of tweaks and like most movies based on other stories, never tweak with the original story! Bringing in the evil neighbor Quin was a bad idea. He is a stupid villain that would never get anywhere in life.This movie is like a rejected comic strip from the newspaper if you think about it. The film sure does look tacky! Sure there are a funny adult jokes like where the cat cuts of his tail and the censor goes off before he says a naughty word, mildly funny. At least the Grinch had spunk, and the film was actually good! This film is a cartoonish piece of snot with bright colors and bad mediocre acting. Was Mike Myers even in this movie actually? And another thing, the fish. What is with that stupid fish! First time you see him, he's an actual fish. Next time you see him, he's all animated and talking. But he looks like an animated piece of rubber play dough! This film is a total off target wreck. Good joke, bad joke, bad, bad, bad, good joke! I'm surprised it even had good jokes like the water park ride joke, that was good. So please if you have the choice, watch the Grinch instead of this mess.\",\n          \"Les Visiteurs, the first movie about the medieval time travelers was actually funny. I like Jean Reno as an actor, but there was more. There were unexpected twists, funny situations and of course plain absurdness, that would remind you a little bit of Louis de Funes.<br /><br />Now this sequel has the same characters, the same actors in great part and the same time traveling. The plot changes a little, since the characters now are supposed to be experienced time travelers. So they jump up and down in history, without paying any attention to the fact that it keeps getting absurder as you advance in the movie. The duke, Jean Reno, tries to keep the whole thing together with his playing, but his character has been emptied, so there's not a lot he can do to save the film.<br /><br />Now the duke's slave/helper, he has really all the attention. The movie is merely about him and his being clumsy / annoying / stupid or whatever he was supposed to be. Fact is; this character tries to produce the laughter from the audience, but he does not succeed. It is as if someone was telling you a really very very bad joke, you already know, but he insists on telling that joke till the end, adding details, to make your suffering a little longer.<br /><br />If you liked Les Visiteurs, do not spoil the taste in your mouth with the sequel. If you didn't like Les Visiteurs, you would never consider seeing the sequel. If you liked this sequel... well, I suppose you still need to see a lot of movies.\",\n          \"Sigh. I'm baffled when I see a short like this get attention and assignments and whatnot. I saw this film at a festival before the filmmaker got any attention and forgot about it immediately afterwards. It was mildly annoying to see it swiping the Grinch Who Stole Christmas heart gag along with the narration, the set design seen many times before, the whole weak Tim Burton-ish style, and the story that goes nowhere. And we got the \\\"joke\\\" about shooting the crows with the 45 the first time, alright?<br /><br />But I guess what's really unacceptable is that it even swipes its basic concept from a comic book circa 1999 called LENORE, THE CUTE LITTLE DEAD GIRL by Roman Dirge! As any quick internet search will reveal. I mean, what is this? This is what they base a Hollywood contract on and opens doors in Canada for a filmmaker? \\\"Give your head a shake\\\" as Don Cherry might say.\"\n        ],\n        \"semantic_type\": \"\",\n        \"description\": \"\"\n      }\n    },\n    {\n      \"column\": \"sentiment\",\n      \"properties\": {\n        \"dtype\": \"category\",\n        \"num_unique_values\": 2,\n        \"samples\": [\n          \"positive\",\n          \"negative\"\n        ],\n        \"semantic_type\": \"\",\n        \"description\": \"\"\n      }\n    }\n  ]\n}"
            }
          },
          "metadata": {},
          "execution_count": 9
        }
      ],
      "source": [
        "# tekrar eden incelemeleri görüntüle\n",
        "\n",
        "review = data['review']\n",
        "duplicated_review = data[review.isin(review[review.duplicated()])].sort_values(\"review\")\n",
        "duplicated_review.head()"
      ]
    },
    {
      "cell_type": "code",
      "execution_count": null,
      "metadata": {
        "id": "zQ-aonIvIviR"
      },
      "outputs": [],
      "source": [
        "#tekrar eden incelemeleri çıkar\n",
        "data.drop_duplicates(inplace = True)"
      ]
    },
    {
      "cell_type": "code",
      "execution_count": null,
      "metadata": {
        "id": "jpJJCp6VIviR",
        "outputId": "b129c6eb-3e01-4d27-86a9-15444d1515fd",
        "colab": {
          "base_uri": "https://localhost:8080/"
        }
      },
      "outputs": [
        {
          "output_type": "stream",
          "name": "stdout",
          "text": [
            "Tekrar edenler kaldırıldıktan sonra veri kümesi 49582 satır ve 2 sütun içermektedir.\n"
          ]
        }
      ],
      "source": [
        "print('Tekrar edenler kaldırıldıktan sonra veri kümesi {} satır ve {} sütun içermektedir.'.format(data.shape[0], data.shape[1]))\n"
      ]
    },
    {
      "cell_type": "markdown",
      "metadata": {
        "id": "INmTu938EvVY"
      },
      "source": [
        "Aşağıdaki hücre, bağlama anlam katmayan \"a\", \"an\", \"the\" gibi durak kelimelerle ilgilenir. Bu kelimeler, duygu analizi sırasında kaldırılacaktır. WordNetLemmatizer fonksiyonu, çoğul kelimeleri tekil hale getirir, böylece makine metni daha iyi anlayabilir.\n"
      ]
    },
    {
      "cell_type": "code",
      "execution_count": null,
      "metadata": {
        "id": "bw9hzwbYIviR"
      },
      "outputs": [],
      "source": [
        "stop = stopwords.words('english')\n",
        "wl = WordNetLemmatizer()"
      ]
    },
    {
      "cell_type": "markdown",
      "metadata": {
        "id": "QpL37nlNEvVY"
      },
      "source": [
        "Aşağıdaki hücre, İngilizcede yaygın olarak kullanılan kısaltmalar için bir eşleme sağlar, böylece veri kümesinde hiçbir kısaltma bulunmaz.\n"
      ]
    },
    {
      "cell_type": "code",
      "execution_count": null,
      "metadata": {
        "id": "t-7eGLXYIviR"
      },
      "outputs": [],
      "source": [
        "mapping = {\"ain't\": \"is not\", \"aren't\": \"are not\",\"can't\": \"cannot\",\n",
        "           \"'cause\": \"because\", \"could've\": \"could have\", \"couldn't\": \"could not\",\n",
        "           \"didn't\": \"did not\",  \"doesn't\": \"does not\", \"don't\": \"do not\", \"hadn't\": \"had not\",\n",
        "           \"hasn't\": \"has not\", \"haven't\": \"have not\", \"he'd\": \"he would\",\"he'll\": \"he will\",\n",
        "           \"he's\": \"he is\", \"how'd\": \"how did\", \"how'd'y\": \"how do you\", \"how'll\": \"how will\",\n",
        "           \"how's\": \"how is\",  \"I'd\": \"I would\", \"I'd've\": \"I would have\", \"I'll\": \"I will\",\n",
        "           \"I'll've\": \"I will have\",\"I'm\": \"I am\", \"I've\": \"I have\", \"i'd\": \"i would\",\n",
        "           \"i'd've\": \"i would have\", \"i'll\": \"i will\",  \"i'll've\": \"i will have\",\n",
        "           \"i'm\": \"i am\", \"i've\": \"i have\", \"isn't\": \"is not\", \"it'd\": \"it would\",\n",
        "           \"it'd've\": \"it would have\", \"it'll\": \"it will\", \"it'll've\": \"it will have\",\n",
        "           \"it's\": \"it is\", \"let's\": \"let us\", \"ma'am\": \"madam\", \"mayn't\": \"may not\",\n",
        "           \"might've\": \"might have\",\"mightn't\": \"might not\",\"mightn't've\": \"might not have\",\n",
        "           \"must've\": \"must have\", \"mustn't\": \"must not\", \"mustn't've\": \"must not have\",\n",
        "           \"needn't\": \"need not\", \"needn't've\": \"need not have\",\"o'clock\": \"of the clock\",\n",
        "           \"oughtn't\": \"ought not\", \"oughtn't've\": \"ought not have\", \"shan't\": \"shall not\",\n",
        "           \"sha'n't\": \"shall not\", \"shan't've\": \"shall not have\", \"she'd\": \"she would\",\n",
        "           \"she'd've\": \"she would have\", \"she'll\": \"she will\", \"she'll've\": \"she will have\",\n",
        "           \"she's\": \"she is\", \"should've\": \"should have\", \"shouldn't\": \"should not\",\n",
        "           \"shouldn't've\": \"should not have\", \"so've\": \"so have\",\"so's\": \"so as\", \"this's\": \"this is\",\n",
        "           \"that'd\": \"that would\", \"that'd've\": \"that would have\", \"that's\": \"that is\",\n",
        "           \"there'd\": \"there would\", \"there'd've\": \"there would have\", \"there's\": \"there is\",\n",
        "           \"here's\": \"here is\",\"they'd\": \"they would\", \"they'd've\": \"they would have\",\n",
        "           \"they'll\": \"they will\", \"they'll've\": \"they will have\", \"they're\": \"they are\",\n",
        "           \"they've\": \"they have\", \"to've\": \"to have\", \"wasn't\": \"was not\", \"we'd\": \"we would\",\n",
        "           \"we'd've\": \"we would have\", \"we'll\": \"we will\", \"we'll've\": \"we will have\",\n",
        "           \"we're\": \"we are\", \"we've\": \"we have\", \"weren't\": \"were not\",\n",
        "           \"what'll\": \"what will\", \"what'll've\": \"what will have\",\"what're\": \"what are\",\n",
        "           \"what's\": \"what is\", \"what've\": \"what have\", \"when's\": \"when is\", \"when've\": \"when have\",\n",
        "           \"where'd\": \"where did\", \"where's\": \"where is\", \"where've\": \"where have\", \"who'll\": \"who will\",\n",
        "           \"who'll've\": \"who will have\", \"who's\": \"who is\", \"who've\": \"who have\", \"why's\": \"why is\",\n",
        "           \"why've\": \"why have\", \"will've\": \"will have\", \"won't\": \"will not\", \"won't've\": \"will not have\",\n",
        "           \"would've\": \"would have\", \"wouldn't\": \"would not\", \"wouldn't've\": \"would not have\",\n",
        "           \"y'all\": \"you all\", \"y'all'd\": \"you all would\",\"y'all'd've\": \"you all would have\",\n",
        "           \"y'all're\": \"you all are\",\"y'all've\": \"you all have\",\"you'd\": \"you would\",\n",
        "           \"you'd've\": \"you would have\", \"you'll\": \"you will\", \"you'll've\": \"you will have\",\n",
        "           \"you're\": \"you are\", \"you've\": \"you have\" }"
      ]
    },
    {
      "cell_type": "markdown",
      "metadata": {
        "id": "moYaufbEEvVY"
      },
      "source": [
        "Aşağıdaki hücre, metni dil modeli için anlamsız olan tüm olası varlıklardan (html etiketleri, emojiler, kısaltmalar ve çoğullar gibi) temizlemek için bir fonksiyon içerir.\n",
        "\n"
      ]
    },
    {
      "cell_type": "code",
      "execution_count": null,
      "metadata": {
        "id": "J_aSlVESIviR"
      },
      "outputs": [],
      "source": [
        "# Veriyi temizleme fonksiyonu\n",
        "def clean_text(text, lemmatize=True):\n",
        "    soup = BeautifulSoup(text, \"html.parser\")  # HTML etiketlerini kaldırır\n",
        "    text = soup.get_text()\n",
        "    text = ' '.join([mapping[t] if t in mapping else t for t in text.split(\" \")])  # Kısaltmaları ve kontraksiyonları açar\n",
        "    emoji_clean = re.compile(\"[\"\n",
        "                             u\"\\U0001F600-\\U0001F64F\"  # ifadeler (emoticons)\n",
        "                             u\"\\U0001F300-\\U0001F5FF\"  # semboller ve piktogramlar\n",
        "                             u\"\\U0001F680-\\U0001F6FF\"  # ulaşım ve harita sembolleri\n",
        "                             u\"\\U0001F1E0-\\U0001F1FF\"  # bayraklar (iOS)\n",
        "                             u\"\\U00002702-\\U000027B0\"\n",
        "                             u\"\\U000024C2-\\U0001F251\"\n",
        "                             \"]+\", flags=re.UNICODE)\n",
        "    text = emoji_clean.sub(r'', text)  # Emojileri kaldırır\n",
        "    text = re.sub(r'\\.(?=\\S)', '. ', text)  # Noktadan sonra boşluk ekler\n",
        "    text = re.sub(r'http\\S+', '', text)  # URL'leri kaldırır\n",
        "    text = \"\".join([word.lower() for word in text if word not in string.punctuation])  # Noktalama işaretlerini kaldırır\n",
        "    # tokens = re.split('\\W+', text)  # Token oluşturur\n",
        "    if lemmatize:\n",
        "        text = \" \".join([wl.lemmatize(word) for word in text.split() if word not in stop and word.isalpha()])  # Lemmatizasyon yapar\n",
        "    else:\n",
        "        text = \" \".join([word for word in text.split() if word not in stop and word.isalpha()])  # Lemmatizasyon yapmadan kelimeleri işler\n",
        "    return text\n"
      ]
    },
    {
      "cell_type": "markdown",
      "metadata": {
        "id": "i-kRESblEvVY"
      },
      "source": [
        "Veri kümesinin bir kopyasını oluştur.\n"
      ]
    },
    {
      "cell_type": "code",
      "execution_count": null,
      "metadata": {
        "id": "O0iMXJovIviR"
      },
      "outputs": [],
      "source": [
        "data_copy = data.copy()"
      ]
    },
    {
      "cell_type": "markdown",
      "metadata": {
        "id": "b18tQ8JtEvVY"
      },
      "source": [
        "Temizleme fonksiyonunu uygula.\n"
      ]
    },
    {
      "cell_type": "code",
      "execution_count": null,
      "metadata": {
        "id": "PAxnPNCTIviR"
      },
      "outputs": [],
      "source": [
        "data['review']=data['review'].apply(clean_text,lemmatize = True)"
      ]
    },
    {
      "cell_type": "code",
      "execution_count": null,
      "metadata": {
        "id": "OLL45qH4IviR"
      },
      "outputs": [],
      "source": [
        "# Hedef değişkeni sayısal etiketlere dönüştürme\n",
        "data.sentiment = [ 1 if each == \"positive\" else 0 for each in data.sentiment]"
      ]
    },
    {
      "cell_type": "code",
      "execution_count": null,
      "metadata": {
        "id": "9FijTSJVIviR",
        "scrolled": true
      },
      "outputs": [],
      "source": [
        "data.head()"
      ]
    },
    {
      "cell_type": "markdown",
      "metadata": {
        "id": "Va7JuONOIviR"
      },
      "source": [
        "# **3. Keşifsel Veri Analizi**\n"
      ]
    },
    {
      "cell_type": "markdown",
      "metadata": {
        "id": "9uwFc3nKEvVZ"
      },
      "source": [
        "Bu bölümde Keşifsel Veri Analizi (Exploratory Data Analysis - EDA) yapacağız.\n"
      ]
    },
    {
      "cell_type": "markdown",
      "metadata": {
        "id": "-dgszH-hEvVZ"
      },
      "source": [
        "Aşağıdaki hücre, olumlu ve olumsuz incelemelerin sayısını görselleştirmek için kullanılır.\n"
      ]
    },
    {
      "cell_type": "code",
      "execution_count": null,
      "metadata": {
        "id": "vGRPZ-_IIviR"
      },
      "outputs": [],
      "source": [
        "### Sayım Grafiği\n",
        "\n",
        "sns.set(style = \"whitegrid\" , font_scale = 1.2)\n",
        "sns.countplot(data.sentiment,palette = ['green','red'],order = [1,0])\n",
        "plt.xticks(ticks = np.arange(2),labels = ['positive','negative'])\n",
        "plt.title('Target count for IMBD reviews')\n",
        "plt.show()"
      ]
    },
    {
      "cell_type": "code",
      "execution_count": null,
      "metadata": {
        "id": "n7Vah_WVIviR"
      },
      "outputs": [],
      "source": [
        "print('Pozitif review sayısı', (round(data['sentiment'].value_counts()[0])),'ve datasetin ', round(data['sentiment'].value_counts()[0]/len(data) * 100,2), '% sini oluşturuyor')\n",
        "print('Negatif review sayısı', (round(data['sentiment'].value_counts()[1])),'ve datasetin',round(data['sentiment'].value_counts()[1]/len(data) * 100,2), '% sini oluşturuyor')"
      ]
    },
    {
      "cell_type": "markdown",
      "metadata": {
        "id": "lZjIJlHUEvVZ"
      },
      "source": [
        "Bu bölümde, hem olumlu hem de olumsuz yorumlarda en sık kullanılan kelimelerin daha büyük boyutlarla gösterildiği görseller oluşturmak için **wordcloud** kütüphanesini kullandım."
      ]
    },
    {
      "cell_type": "code",
      "execution_count": null,
      "metadata": {
        "id": "YdLV8TPyIviR",
        "scrolled": true
      },
      "outputs": [],
      "source": [
        "# Olumlu İncelemeler için Word Cloud\n",
        "positive_data = data[data.sentiment == 1]['review']\n",
        "positive_data_string = ' '.join(positive_data)\n",
        "plt.figure(figsize = (20,20))\n",
        "wc = WordCloud(max_words = 2000, width=1200, height=600,background_color=\"white\").generate(positive_data_string)\n",
        "plt.imshow(wc , interpolation = 'bilinear')\n",
        "plt.axis('off')\n",
        "plt.title('# Olumlu İncelemeler için Word Cloud',fontsize = 20)\n",
        "plt.show()"
      ]
    },
    {
      "cell_type": "code",
      "execution_count": null,
      "metadata": {
        "id": "t5WmPfY7IviR"
      },
      "outputs": [],
      "source": [
        "# Olumsuz İncelemeler için Word Cloud\n",
        "\n",
        "negative_data = data[data.sentiment == 0]['review']\n",
        "negative_data_string = ' '.join(negative_data)\n",
        "plt.figure(figsize = (20,20))\n",
        "wc = WordCloud(max_words = 2000, width=1200, height=600,background_color=\"white\").generate(negative_data_string)\n",
        "plt.imshow(wc , interpolation = 'bilinear')\n",
        "plt.axis('off')\n",
        "plt.title(' Olumsuz İncelemeler için Word Cloud',fontsize = 20)\n",
        "plt.show()"
      ]
    },
    {
      "cell_type": "markdown",
      "metadata": {
        "id": "Wk6n5F5REvVZ"
      },
      "source": [
        "Şimdi olumlu ve olumsuz incelemelerin uzunlukları karşılaştırılacak.\n"
      ]
    },
    {
      "cell_type": "code",
      "execution_count": null,
      "metadata": {
        "id": "RZ5U-4GkIviR"
      },
      "outputs": [],
      "source": [
        "fig, (ax1, ax2) = plt.subplots(1, 2, figsize=(12, 8))\n",
        "text_len = positive_data.str.len()\n",
        "ax1.hist(text_len, color='green')\n",
        "ax1.set_title('Olumlu İncelemeler')\n",
        "ax1.set_xlabel('Karakter Sayısı')\n",
        "ax1.set_ylabel('Sayı')\n",
        "text_len = negative_data.str.len()\n",
        "ax2.hist(text_len, color='red')\n",
        "ax2.set_title('Olumsuz İncelemeler')\n",
        "ax2.set_xlabel('Karakter Sayısı')\n",
        "ax2.set_ylabel('Sayı')\n",
        "fig.suptitle('Metinlerdeki Karakter Sayısı')\n",
        "plt.show()\n"
      ]
    },
    {
      "cell_type": "code",
      "execution_count": null,
      "metadata": {
        "id": "VONKhC8uIviR"
      },
      "outputs": [],
      "source": [
        "fig, (ax1, ax2) = plt.subplots(1, 2, figsize=(12, 8))\n",
        "\n",
        "text_len = positive_data.str.split().map(lambda x: len(x))\n",
        "ax1.hist(text_len, color='green')\n",
        "ax1.set_title('Olumlu İncelemeler')\n",
        "ax1.set_xlabel('Kelime Sayısı')\n",
        "ax1.set_ylabel('Sayı')\n",
        "text_len = negative_data.str.split().map(lambda x: len(x))\n",
        "ax2.hist(text_len, color='red')\n",
        "ax2.set_title('Olumsuz İncelemeler')\n",
        "ax2.set_xlabel('Kelime Sayısı')\n",
        "ax2.set_ylabel('Sayı')\n",
        "fig.suptitle('Metinlerdeki Kelime Sayısı')\n",
        "plt.show()\n"
      ]
    },
    {
      "cell_type": "code",
      "execution_count": null,
      "metadata": {
        "id": "muH47XDYIviS"
      },
      "outputs": [],
      "source": [
        "fig, (ax1, ax2) = plt.subplots(1, 2, figsize=(20, 10))\n",
        "\n",
        "word = positive_data.str.split().apply(lambda x: len(x))\n",
        "sns.histplot(word, ax=ax1, color='green', kde=True)  # histplot kullanılarak güncellendi\n",
        "ax1.set_title('Olumlu İncelemeler')\n",
        "ax1.set_xlabel('İnceleme Başına Kelime Sayısı')\n",
        "\n",
        "word = negative_data.str.split().apply(lambda x: len(x))\n",
        "sns.histplot(word, ax=ax2, color='red', kde=True)  # histplot kullanılarak güncellendi\n",
        "ax2.set_title('Olumsuz İncelemeler')\n",
        "ax2.set_xlabel('İnceleme Başına Kelime Sayısı')\n",
        "\n",
        "fig.suptitle('İnceleme Başına Kelime Sayısının Dağılımı')\n",
        "plt.show()\n"
      ]
    },
    {
      "cell_type": "code",
      "execution_count": null,
      "metadata": {
        "id": "flPUI47oIviS"
      },
      "outputs": [],
      "source": [
        "fig, (ax1, ax2) = plt.subplots(1, 2, figsize=(20, 10))\n",
        "\n",
        "word = positive_data.str.split().apply(lambda x: [len(i) for i in x])\n",
        "sns.histplot(word.map(lambda x: np.mean(x)), ax=ax1, color='green', kde=True)  # distplot yerine histplot kullanıldı\n",
        "ax1.set_title('Olumlu İncelemeler')\n",
        "ax1.set_xlabel('İnceleme Başına Ortalama Kelime Uzunluğu')\n",
        "\n",
        "word = negative_data.str.split().apply(lambda x: [len(i) for i in x])\n",
        "sns.histplot(word.map(lambda x: np.mean(x)), ax=ax2, color='red', kde=True)  # distplot yerine histplot kullanıldı\n",
        "ax2.set_title('Olumsuz İncelemeler')\n",
        "ax2.set_xlabel('İnceleme Başına Ortalama Kelime Uzunluğu')\n",
        "\n",
        "fig.suptitle('Her İncelemedeki Ortalama Kelime Uzunluğunun Dağılımı')\n",
        "plt.show()\n"
      ]
    },
    {
      "cell_type": "markdown",
      "metadata": {
        "id": "AkKlLvuhEvVd"
      },
      "source": [
        "Görüldüğü üzere, olumlu incelemeler genellikle olumsuz incelemelere kıyasla daha kısa olma eğilimindedir. Ayrıca, genel olarak daha kısa kelimeler içerirler.\n"
      ]
    },
    {
      "cell_type": "markdown",
      "metadata": {
        "id": "yni8XLWSEvVd"
      },
      "source": [
        "Aşağıdaki hücreler, veri kümesinden bir corpus (metin kümesi) oluşturmak içindir. Bu, veri kümesindeki kelime frekanslarını analiz etmek için yapılır.\n"
      ]
    },
    {
      "cell_type": "code",
      "execution_count": null,
      "metadata": {
        "id": "0lR85KQlIviS"
      },
      "outputs": [],
      "source": [
        "def get_corpus(text):\n",
        "    words = []\n",
        "    for i in text:\n",
        "        for j in i.split():\n",
        "            words.append(j.strip())\n",
        "    return words\n",
        "corpus = get_corpus(data.review)\n",
        "corpus[:5]"
      ]
    },
    {
      "cell_type": "code",
      "execution_count": null,
      "metadata": {
        "id": "y_0sLnuBIviS"
      },
      "outputs": [],
      "source": [
        "from collections import Counter\n",
        "counter = Counter(corpus)\n",
        "most_common = counter.most_common(10)\n",
        "most_common = pd.DataFrame(most_common,columns = ['corpus','countv'])\n",
        "most_common"
      ]
    },
    {
      "cell_type": "code",
      "execution_count": null,
      "metadata": {
        "id": "Je7osLvAIviS"
      },
      "outputs": [],
      "source": [
        "most_common = most_common.sort_values('countv')"
      ]
    },
    {
      "cell_type": "code",
      "execution_count": null,
      "metadata": {
        "id": "f-ONSbc3IviS"
      },
      "outputs": [],
      "source": [
        "plt.figure(figsize =(10,10))\n",
        "plt.yticks(range(len(most_common)), list(most_common.corpus))\n",
        "plt.barh(range(len(most_common)), list(most_common.countv),align='center',color = 'blue')\n",
        "plt.title('Datasette en çok kullanılan kelimeler')\n",
        "plt.show()\n"
      ]
    },
    {
      "cell_type": "markdown",
      "metadata": {
        "id": "Z6o32gw_EvVd"
      },
      "source": [
        "Şaşırtıcı olmayan bir şekilde, metin kümesindeki en yaygın kelimeler \"movie\" ve \"film\"dir.\n"
      ]
    },
    {
      "cell_type": "markdown",
      "metadata": {
        "id": "sfRnAxXvEvVe"
      },
      "source": [
        "N-gramlar, geleneksel doğal dil işleme (NLP) için çok önemlidir. Bir unigram (n=1 ngram) tek bir kelimeden oluşurken, bir bigram (n=2) ardışık 2 kelimeden oluşur, vb. Aşağıdaki hücreler, n-gramları elde etmek ve farklı n-gramlar için olumlu ve olumsuz incelemeler arasında bir karşılaştırma yapmak için kullanılmıştır.\n"
      ]
    },
    {
      "cell_type": "code",
      "execution_count": null,
      "metadata": {
        "id": "yWXv6V4oIviS"
      },
      "outputs": [],
      "source": [
        "def get_ngrams(review, n, g):\n",
        "    vec = CountVectorizer(ngram_range=(g, g)).fit(review)  # Belirtilen n-gram aralığında kelimeleri vektörize eder\n",
        "    bag_of_words = vec.transform(review)  # CountVectorizer'ın sparse matrisini oluşturur\n",
        "    sum_words = bag_of_words.sum(axis=0)  # Toplam kelime sayısını hesaplar\n",
        "    sum_words = np.array(sum_words)[0].tolist()  # Listeye dönüştürür\n",
        "    words_freq = [(word, sum_words[idx]) for word, idx in vec.vocabulary_.items()]  # Kelimelerin frekansını ve konumunu alır\n",
        "    words_freq = sorted(words_freq, key=lambda x: x[1], reverse=True)  # Kelime frekansına göre azalan şekilde sıralar\n",
        "    return words_freq[:n]  # İlk n kelimeyi döndürür\n"
      ]
    },
    {
      "cell_type": "code",
      "execution_count": null,
      "metadata": {
        "id": "sLf0cUXDIviS"
      },
      "outputs": [],
      "source": [
        "fig, (ax1, ax2) = plt.subplots(1, 2, figsize=(30, 15))\n",
        "\n",
        "# Olumlu incelemeler için unigram analizi\n",
        "uni_positive = get_ngrams(positive_data, 20, 1)\n",
        "uni_positive = dict(uni_positive)\n",
        "temp = pd.DataFrame(list(uni_positive.items()), columns=[\"En Yaygın Kelimeler\", 'Sıklık'])\n",
        "sns.barplot(data=temp, x=\"Sıklık\", y=\"En Yaygın Kelimeler\", orient='h', ax=ax1)\n",
        "ax1.set_title('Olumlu İncelemeler')\n",
        "\n",
        "# Olumsuz incelemeler için unigram analizi\n",
        "uni_negative = get_ngrams(negative_data, 20, 1)\n",
        "uni_negative = dict(uni_negative)\n",
        "temp = pd.DataFrame(list(uni_negative.items()), columns=[\"En Yaygın Kelimeler\", 'Sıklık'])\n",
        "sns.barplot(data=temp, x=\"Sıklık\", y=\"En Yaygın Kelimeler\", orient='h', ax=ax2)\n",
        "ax2.set_title('Olumsuz İncelemeler')\n",
        "\n",
        "fig.suptitle('Olumlu ve Olumsuz İncelemeler için Unigram Analizi')\n",
        "plt.show()\n"
      ]
    },
    {
      "cell_type": "markdown",
      "metadata": {
        "id": "7MmlrJO6EvVe"
      },
      "source": [
        "Görüldüğü üzere, olumlu ve olumsuz incelemeler sırasıyla daha sık olumlu ve olumsuz kelimeler içermektedir.\n"
      ]
    },
    {
      "cell_type": "code",
      "execution_count": null,
      "metadata": {
        "id": "QIyq5AtuIviS"
      },
      "outputs": [],
      "source": [
        "fig, (ax1, ax2) = plt.subplots(1, 2, figsize=(30, 15))\n",
        "\n",
        "# Olumlu incelemeler için bigram analizi\n",
        "bi_positive = get_ngrams(positive_data, 20, 2)\n",
        "bi_positive = dict(bi_positive)\n",
        "temp = pd.DataFrame(list(bi_positive.items()), columns=[\"En Yaygın İkili Kelimeler\", 'Sıklık'])\n",
        "sns.barplot(data=temp, x=\"Sıklık\", y=\"En Yaygın İkili Kelimeler\", orient='h', ax=ax1)\n",
        "ax1.set_title('Olumlu İncelemeler')\n",
        "\n",
        "# Olumsuz incelemeler için bigram analizi\n",
        "bi_negative = get_ngrams(negative_data, 20, 2)\n",
        "bi_negative = dict(bi_negative)\n",
        "temp = pd.DataFrame(list(bi_negative.items()), columns=[\"En Yaygın İkili Kelimeler\", 'Sıklık'])\n",
        "sns.barplot(data=temp, x=\"Sıklık\", y=\"En Yaygın İkili Kelimeler\", orient='h', ax=ax2)\n",
        "ax2.set_title('Olumsuz İncelemeler')\n",
        "\n",
        "fig.suptitle('Olumlu ve Olumsuz İncelemeler için Bigram Analizi')\n",
        "plt.show()\n"
      ]
    },
    {
      "cell_type": "code",
      "execution_count": null,
      "metadata": {
        "id": "E_S9G3FUIviS"
      },
      "outputs": [],
      "source": [
        "fig, (ax1, ax2) = plt.subplots(1, 2, figsize=(30, 15))\n",
        "\n",
        "# Olumlu incelemeler için trigram analizi\n",
        "tri_positive = get_ngrams(positive_data, 20, 3)\n",
        "tri_positive = dict(tri_positive)\n",
        "temp = pd.DataFrame(list(tri_positive.items()), columns=[\"En Yaygın Üçlü Kelimeler\", 'Sıklık'])\n",
        "sns.barplot(data=temp, x=\"Sıklık\", y=\"En Yaygın Üçlü Kelimeler\", orient='h', ax=ax1)\n",
        "ax1.set_title('Olumlu İncelemeler')\n",
        "\n",
        "# Olumsuz incelemeler için trigram analizi\n",
        "tri_negative = get_ngrams(negative_data, 20, 3)\n",
        "tri_negative = dict(tri_negative)\n",
        "temp = pd.DataFrame(list(tri_negative.items()), columns=[\"En Yaygın Üçlü Kelimeler\", 'Sıklık'])\n",
        "sns.barplot(data=temp, x=\"Sıklık\", y=\"En Yaygın Üçlü Kelimeler\", orient='h', ax=ax2)\n",
        "ax2.set_title('Olumsuz İncelemeler')\n",
        "\n",
        "fig.suptitle('Olumlu ve Olumsuz İncelemeler için Trigram Analizi')\n",
        "plt.show()\n"
      ]
    },
    {
      "cell_type": "markdown",
      "metadata": {
        "id": "lOnLWgW7EvVe"
      },
      "source": [
        "N arttıkça, en yaygın kullanılan n-gramlar arasındaki fark daha belirgin hale gelir.\n"
      ]
    },
    {
      "cell_type": "markdown",
      "metadata": {
        "id": "yN4loo4pIviV"
      },
      "source": [
        "# **4. Makine Öğrenmesi Kullanarak Tahminsel Modelleme**\n"
      ]
    },
    {
      "cell_type": "code",
      "execution_count": null,
      "metadata": {
        "id": "6f7JeYPuIviV"
      },
      "outputs": [],
      "source": [
        "# Eğitim ve test veri setlerine ayırma\n",
        "train, test= train_test_split(data, test_size=0.2, random_state=42)\n",
        "Xtrain, ytrain = train['review'], train['sentiment']\n",
        "Xtest, ytest = test['review'], test['sentiment']"
      ]
    },
    {
      "cell_type": "code",
      "execution_count": null,
      "metadata": {
        "id": "g-dVxXISIviV"
      },
      "outputs": [],
      "source": [
        "# Verilerin Vektörleştirilmesi\n",
        "\n",
        "tfidf_vect = TfidfVectorizer()\n",
        "Xtrain_tfidf = tfidf_vect.fit_transform(Xtrain)\n",
        "Xtest_tfidf = tfidf_vect.transform(Xtest)\n",
        "\n",
        "\n",
        "count_vect = CountVectorizer()\n",
        "Xtrain_count = count_vect.fit_transform(Xtrain)\n",
        "Xtest_count = count_vect.transform(Xtest)"
      ]
    },
    {
      "cell_type": "markdown",
      "metadata": {
        "execution": {
          "iopub.execute_input": "2021-07-23T07:02:58.678286Z",
          "iopub.status.busy": "2021-07-23T07:02:58.677968Z",
          "iopub.status.idle": "2021-07-23T07:03:02.363725Z",
          "shell.execute_reply": "2021-07-23T07:03:02.362283Z",
          "shell.execute_reply.started": "2021-07-23T07:02:58.678257Z"
        },
        "id": "FCKj70wmIviV"
      },
      "source": [
        "### Lineer Regression"
      ]
    },
    {
      "cell_type": "code",
      "execution_count": null,
      "metadata": {
        "id": "sutqagIqIviW"
      },
      "outputs": [],
      "source": [
        "from sklearn.linear_model import LinearRegression\n",
        "from sklearn.metrics import accuracy_score, ConfusionMatrixDisplay\n",
        "\n",
        "lr = LinearRegression()\n",
        "lr.fit(Xtrain_tfidf, ytrain)\n",
        "p1 = lr.predict(Xtest_tfidf)\n",
        "p1_rounded = [1 if pred >= 0.5 else 0 for pred in p1]\n",
        "s1 = accuracy_score(ytest, p1_rounded)\n",
        "print(\"Linear Regression Accuracy :\", \"{:.2f}%\".format(100 * s1))\n",
        "ConfusionMatrixDisplay.from_predictions(ytest, p1_rounded, cmap='Blues')\n",
        "plt.grid(False)\n",
        "plt.show()\n"
      ]
    },
    {
      "cell_type": "markdown",
      "metadata": {
        "execution": {
          "iopub.execute_input": "2021-07-23T07:03:18.71965Z",
          "iopub.status.busy": "2021-07-23T07:03:18.719323Z",
          "iopub.status.idle": "2021-07-23T07:03:19.008027Z",
          "shell.execute_reply": "2021-07-23T07:03:19.007032Z",
          "shell.execute_reply.started": "2021-07-23T07:03:18.71962Z"
        },
        "id": "RDD4QYRiIviW"
      },
      "source": [
        "### Random Forest Classifier"
      ]
    },
    {
      "cell_type": "code",
      "execution_count": null,
      "metadata": {
        "id": "b6FYzTCPIviW"
      },
      "outputs": [],
      "source": [
        "from sklearn.ensemble import RandomForestClassifier\n",
        "from sklearn.metrics import accuracy_score, ConfusionMatrixDisplay\n",
        "\n",
        "random_forest = RandomForestClassifier(n_estimators=100, random_state=42)\n",
        "random_forest.fit(Xtrain_tfidf, ytrain)\n",
        "p2 = random_forest.predict(Xtest_tfidf)\n",
        "from sklearn.metrics import accuracy_score, ConfusionMatrixDisplay\n",
        "s2 = accuracy_score(ytest, p2)\n",
        "print(\"Random Forest Classifier Accuracy :\", \"{:.2f}%\".format(100 * s2))\n",
        "ConfusionMatrixDisplay.from_estimator(random_forest, Xtest_tfidf, ytest, cmap='Blues')\n",
        "plt.grid(False)\n",
        "plt.show()\n"
      ]
    },
    {
      "cell_type": "markdown",
      "metadata": {
        "execution": {
          "iopub.execute_input": "2021-07-23T07:03:37.358139Z",
          "iopub.status.busy": "2021-07-23T07:03:37.357687Z",
          "iopub.status.idle": "2021-07-23T07:03:40.151133Z",
          "shell.execute_reply": "2021-07-23T07:03:40.150309Z",
          "shell.execute_reply.started": "2021-07-23T07:03:37.358096Z"
        },
        "id": "Ea0KuWV0IviW"
      },
      "source": [
        "### Logistic Regression\n"
      ]
    },
    {
      "cell_type": "code",
      "execution_count": null,
      "metadata": {
        "id": "VyA3obENIviW"
      },
      "outputs": [],
      "source": [
        "from sklearn.linear_model import LogisticRegression\n",
        "from sklearn.metrics import accuracy_score, ConfusionMatrixDisplay\n",
        "\n",
        "lr = LogisticRegression()\n",
        "lr.fit(Xtrain_tfidf,ytrain)\n",
        "p3=lr.predict(Xtest_tfidf)\n",
        "s3=accuracy_score(ytest,p3)\n",
        "print(\"Logistic Regression Accuracy :\", \"{:.2f}%\".format(100*s3))\n",
        "ConfusionMatrixDisplay.from_estimator(lr, Xtest_tfidf, ytest,cmap = 'Blues')\n",
        "plt.grid(False)"
      ]
    },
    {
      "cell_type": "code",
      "execution_count": null,
      "metadata": {
        "id": "IwiCrUaSEvVf"
      },
      "outputs": [],
      "source": [
        "from sklearn.metrics import classification_report, accuracy_score\n",
        "import pandas as pd\n",
        "\n",
        "\n",
        "validation_accuracy = accuracy_score(ytest, p3)\n",
        "print(\"Lojistik Regresyon Doğruluğu: {:.2f}%\".format(validation_accuracy * 100))\n",
        "report = classification_report(ytest, p3, output_dict=True)\n",
        "report_df = pd.DataFrame(report).transpose()\n",
        "\n",
        "print(\"Lojistik Regresyon Metrikleri:\\n\")\n",
        "print(report_df)\n"
      ]
    },
    {
      "cell_type": "markdown",
      "metadata": {
        "id": "V7iJo68pEvVf"
      },
      "source": [
        "### Karşılaştırma"
      ]
    },
    {
      "cell_type": "code",
      "execution_count": null,
      "metadata": {
        "id": "ohjYOnRrEvVf"
      },
      "outputs": [],
      "source": [
        "import matplotlib.pyplot as plt\n",
        "\n",
        "model_names = [\"Lin Reg.\", \"Ran For.\", \"Log Reg.\"]\n",
        "accuracies = [s1, s2, s3]\n",
        "\n",
        "\n",
        "print(\"Model Accuracy Karşılaştırma:\")\n",
        "for name, acc in zip(model_names, accuracies):\n",
        "    print(f\"{name}: {acc:.2f}\")\n",
        "\n",
        "\n",
        "plt.figure(figsize=(5,4))\n",
        "plt.bar(model_names, accuracies, color='darkblue')\n",
        "plt.xlabel(\"Modeller\")\n",
        "plt.ylabel(\"Accuracy\")\n",
        "plt.title(\"Model Accuracy Karşılaştırma\")\n",
        "plt.ylim(0, 1)\n",
        "plt.yticks([i / 20 for i in range(0, 20, 1)])\n",
        "plt.show()\n",
        "\n",
        "\n"
      ]
    }
  ],
  "metadata": {
    "colab": {
      "provenance": []
    },
    "kernelspec": {
      "display_name": "Python 3 (ipykernel)",
      "language": "python",
      "name": "python3"
    },
    "language_info": {
      "codemirror_mode": {
        "name": "ipython",
        "version": 3
      },
      "file_extension": ".py",
      "mimetype": "text/x-python",
      "name": "python",
      "nbconvert_exporter": "python",
      "pygments_lexer": "ipython3",
      "version": "3.11.10"
    }
  },
  "nbformat": 4,
  "nbformat_minor": 0
}